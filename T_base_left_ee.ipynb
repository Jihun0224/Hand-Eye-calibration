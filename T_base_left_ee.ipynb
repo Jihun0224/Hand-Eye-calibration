{
 "cells": [
  {
   "cell_type": "code",
   "execution_count": 2,
   "id": "d556bf9f",
   "metadata": {},
   "outputs": [],
   "source": [
    "import rby1_sdk as rb\n",
    "import argparse\n",
    "import numpy as np"
   ]
  },
  {
   "cell_type": "code",
   "execution_count": 3,
   "id": "e423b5a0",
   "metadata": {},
   "outputs": [],
   "source": [
    "\n",
    "np.set_printoptions(precision=3, suppress=True, floatmode=\"fixed\")\n",
    "\n",
    "\n",
    "def get_joints(address = \"192.168.30.1:50051\", model = \"a\", power = \".*\"):\n",
    "    robot = rb.create_robot(address, model)\n",
    "    robot.connect()\n",
    "    if not robot.is_connected():\n",
    "        print(\"Robot is not connected\")\n",
    "        exit(1)\n",
    "    if not robot.is_power_on(power):\n",
    "        rv = robot.power_on(power)\n",
    "        if not rv:\n",
    "            print(\"Failed to power on\")\n",
    "            exit(1)\n",
    "    robot.reset_fault_control_manager()\n",
    "    robot.enable_control_manager()\n",
    "\n",
    "    robot_state = robot.get_state()\n",
    "    body = [round(x, 3) for x in robot_state.position[2:8]]\n",
    "    right_arm = [round(x, 3) for x in robot_state.position[8:15]]\n",
    "    left_arm = [round(x, 3) for x in robot_state.position[15:22]]\n",
    "\n",
    "    result = [\n",
    "        body,\n",
    "        right_arm,\n",
    "        left_arm\n",
    "    ]\n",
    "    return result"
   ]
  },
  {
   "cell_type": "code",
   "execution_count": 4,
   "id": "4d458386",
   "metadata": {},
   "outputs": [
    {
     "data": {
      "text/plain": [
       "[np.float64(-0.844),\n",
       " np.float64(0.329),\n",
       " np.float64(-0.334),\n",
       " np.float64(-1.617),\n",
       " np.float64(0.055),\n",
       " np.float64(1.625),\n",
       " np.float64(0.0)]"
      ]
     },
     "execution_count": 4,
     "metadata": {},
     "output_type": "execute_result"
    }
   ],
   "source": [
    "_, _, left_arm = get_joints()\n",
    "left_arm"
   ]
  },
  {
   "cell_type": "code",
   "execution_count": 16,
   "id": "52fdf4f9",
   "metadata": {},
   "outputs": [
    {
     "data": {
      "text/plain": [
       "['right_wheel',\n",
       " 'left_wheel',\n",
       " 'torso_0',\n",
       " 'torso_1',\n",
       " 'torso_2',\n",
       " 'torso_3',\n",
       " 'torso_4',\n",
       " 'torso_5',\n",
       " 'right_arm_0',\n",
       " 'right_arm_1',\n",
       " 'right_arm_2',\n",
       " 'right_arm_3',\n",
       " 'right_arm_4',\n",
       " 'right_arm_5',\n",
       " 'right_arm_6',\n",
       " 'left_arm_0',\n",
       " 'left_arm_1',\n",
       " 'left_arm_2',\n",
       " 'left_arm_3',\n",
       " 'left_arm_4',\n",
       " 'left_arm_5',\n",
       " 'left_arm_6',\n",
       " 'head_0',\n",
       " 'head_1']"
      ]
     },
     "execution_count": 16,
     "metadata": {},
     "output_type": "execute_result"
    }
   ],
   "source": [
    "import rby1_sdk as rb\n",
    "ADDRESS = \"192.168.30.1:50051\"\n",
    "MODEL = \"a\"\n",
    "\n",
    "robot = rb.create_robot(ADDRESS, MODEL)\n",
    "model = robot.model()\n",
    "robot.connect()\n",
    "dyn_model = robot.get_dynamics()\n",
    "dyn_state = dyn_model.make_state([\"base\", \"link_torso_5\", \"ee_right\", \"ee_left\"], model.robot_joint_names)\n",
    "BASE_INDEX, LINK_TORSO_5_INDEX, EE_RIGHT_INDEX, EE_LEFT_INDEX = 0, 1, 2, 3\n",
    "model.robot_joint_names\n"
   ]
  },
  {
   "cell_type": "code",
   "execution_count": 17,
   "id": "07623730",
   "metadata": {},
   "outputs": [
    {
     "name": "stdout",
     "output_type": "stream",
     "text": [
      "[[1.     0.     0.     0.    ]\n",
      " [0.     1.     0.     0.22  ]\n",
      " [0.     0.     1.     0.6832]\n",
      " [0.     0.     0.     1.    ]]\n"
     ]
    }
   ],
   "source": [
    "dyn_state.set_q([0] * model.robot_dof)\n",
    "dyn_model.compute_forward_kinematics(dyn_state)\n",
    "T_base2left = dyn_model.compute_transformation(dyn_state, BASE_INDEX, EE_LEFT_INDEX)\n",
    "print(T_base2left)"
   ]
  },
  {
   "cell_type": "code",
   "execution_count": 22,
   "id": "ffe92d45",
   "metadata": {},
   "outputs": [
    {
     "name": "stdout",
     "output_type": "stream",
     "text": [
      "T_base2left: \n",
      " [[ 0.64995693  0.30627149 -0.69552409  0.53229961]\n",
      " [-0.58614079  0.78455624 -0.20226339  0.11352804]\n",
      " [ 0.48373026  0.53913753  0.68944598  1.11000654]\n",
      " [ 0.          0.          0.          1.        ]]\n",
      "\n",
      "R: \n",
      " [[ 0.64995693  0.30627149 -0.69552409]\n",
      " [-0.58614079  0.78455624 -0.20226339]\n",
      " [ 0.48373026  0.53913753  0.68944598]]\n",
      "\n",
      "p: \n",
      " [0.53229961 0.11352804 1.11000654]\n",
      "\n"
     ]
    }
   ],
   "source": [
    "dyn_state.set_q(robot.get_state().position)\n",
    "dyn_model.compute_forward_kinematics(dyn_state)\n",
    "T_base2left = dyn_model.compute_transformation(dyn_state, BASE_INDEX, EE_LEFT_INDEX)\n",
    "R = T_base2left[:3,:3]\n",
    "p = T_base2left[:3,3]\n",
    "print(\"T_base2left: \\n\", T_base2left, end=\"\\n\\n\")\n",
    "print(\"R: \\n\", R, end=\"\\n\\n\")\n",
    "print(\"p: \\n\", p, end=\"\\n\\n\")\n"
   ]
  },
  {
   "cell_type": "code",
   "execution_count": null,
   "id": "87c54536",
   "metadata": {},
   "outputs": [],
   "source": []
  },
  {
   "cell_type": "code",
   "execution_count": null,
   "id": "d8965639",
   "metadata": {},
   "outputs": [],
   "source": []
  }
 ],
 "metadata": {
  "kernelspec": {
   "display_name": "rby1",
   "language": "python",
   "name": "python3"
  },
  "language_info": {
   "codemirror_mode": {
    "name": "ipython",
    "version": 3
   },
   "file_extension": ".py",
   "mimetype": "text/x-python",
   "name": "python",
   "nbconvert_exporter": "python",
   "pygments_lexer": "ipython3",
   "version": "3.13.5"
  }
 },
 "nbformat": 4,
 "nbformat_minor": 5
}
