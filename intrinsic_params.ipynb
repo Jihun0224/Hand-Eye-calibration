{
 "cells": [
  {
   "cell_type": "code",
   "execution_count": 3,
   "id": "83c241d5",
   "metadata": {},
   "outputs": [
    {
     "name": "stdout",
     "output_type": "stream",
     "text": [
      "Applied preset, readback: {'exposure': 166.0, 'white_balance': 4600.0, 'gain': 64.0}\n"
     ]
    },
    {
     "data": {
      "text/plain": [
       "{'exposure': 166.0, 'white_balance': 4600.0, 'gain': 64.0}"
      ]
     },
     "execution_count": 3,
     "metadata": {},
     "output_type": "execute_result"
    }
   ],
   "source": [
    "import pyrealsense2 as rs\n",
    "import json\n",
    "import time\n",
    "\n",
    "def get_color_sensor(profile):\n",
    "    dev = profile.get_device()\n",
    "    for s in dev.sensors:\n",
    "        name = s.get_info(rs.camera_info.name).lower()\n",
    "        if \"color\" in name or \"rgb\" in name:\n",
    "            return s\n",
    "    return None\n",
    "\n",
    "def apply_preset(profile, preset):\n",
    "    \"\"\"\n",
    "    profile: pipeline profile returned by pipeline.start(cfg)\n",
    "    preset: dict with keys possibly 'exposure','white_balance','gain'\n",
    "    \"\"\"\n",
    "    sensor = get_color_sensor(profile)\n",
    "    if sensor is None:\n",
    "        raise RuntimeError(\"Color sensor not found\")\n",
    "\n",
    "    # Disable autos if supported\n",
    "    try:\n",
    "        if sensor.supports(rs.option.enable_auto_exposure):\n",
    "            sensor.set_option(rs.option.enable_auto_exposure, 0)\n",
    "    except Exception as e:\n",
    "        print(\"Warning: could not disable auto exposure:\", e)\n",
    "\n",
    "    try:\n",
    "        if sensor.supports(rs.option.enable_auto_white_balance):\n",
    "            sensor.set_option(rs.option.enable_auto_white_balance, 0)\n",
    "    except Exception as e:\n",
    "        print(\"Warning: could not disable auto white balance:\", e)\n",
    "\n",
    "    # Set saved values (if supported)\n",
    "    try:\n",
    "        if 'exposure' in preset and sensor.supports(rs.option.exposure):\n",
    "            sensor.set_option(rs.option.exposure, float(preset['exposure']))\n",
    "        if 'white_balance' in preset and sensor.supports(rs.option.white_balance):\n",
    "            sensor.set_option(rs.option.white_balance, float(preset['white_balance']))\n",
    "        if 'gain' in preset and sensor.supports(rs.option.gain):\n",
    "            sensor.set_option(rs.option.gain, float(preset['gain']))\n",
    "    except Exception as e:\n",
    "        print(\"Warning: could not set some options:\", e)\n",
    "\n",
    "    # readback verify\n",
    "    readback = {}\n",
    "    try:\n",
    "        if sensor.supports(rs.option.exposure):\n",
    "            readback['exposure'] = sensor.get_option(rs.option.exposure)\n",
    "        if sensor.supports(rs.option.white_balance):\n",
    "            readback['white_balance'] = sensor.get_option(rs.option.white_balance)\n",
    "        if sensor.supports(rs.option.gain):\n",
    "            readback['gain'] = sensor.get_option(rs.option.gain)\n",
    "    except Exception as e:\n",
    "        print(\"Warning: could not read back options:\", e)\n",
    "    print(\"Applied preset, readback:\", readback)\n",
    "    return readback\n",
    "\n",
    "# 사용 예시\n",
    "pipeline = rs.pipeline()\n",
    "cfg = rs.config()\n",
    "cfg.enable_stream(rs.stream.color, 1280,720, rs.format.bgr8, 30)\n",
    "profile = pipeline.start(cfg)\n",
    "time.sleep(0.1)  # 안전 마진\n",
    "\n",
    "with open('rs_locked_preset.json','r') as f:\n",
    "    preset = json.load(f)\n",
    "\n",
    "apply_preset(profile, preset)\n",
    "# 이후 캡처/캘리 작업 진행\n"
   ]
  },
  {
   "cell_type": "code",
   "execution_count": 5,
   "id": "5797ae75",
   "metadata": {},
   "outputs": [
    {
     "name": "stdout",
     "output_type": "stream",
     "text": [
      "Applied preset, readback: {'exposure': 166.0, 'white_balance': 4600.0, 'gain': 64.0}\n",
      "Manual mode: press 's' to save, 'q' to quit.\n"
     ]
    }
   ],
   "source": [
    "# capture_calib_images.py\n",
    "import time, os, cv2, numpy as np\n",
    "import pyrealsense2 as rs\n",
    "\n",
    "SAVE_DIR = \"calib_images\"\n",
    "os.makedirs(SAVE_DIR, exist_ok=True)\n",
    "\n",
    "\n",
    "pipeline = rs.pipeline()\n",
    "cfg = rs.config()\n",
    "cfg.enable_stream(rs.stream.color, 1280,720, rs.format.bgr8, 30)\n",
    "cfg.enable_stream(rs.stream.depth, 1280,720, rs.format.z16, 30)\n",
    "profile = pipeline.start(cfg)\n",
    "apply_preset(profile, preset)\n",
    "\n",
    "count = 0\n",
    "print(\"Manual mode: press 's' to save, 'q' to quit.\")\n",
    "try:\n",
    "    while True:\n",
    "        frames = pipeline.wait_for_frames()\n",
    "        color = np.asanyarray(frames.get_color_frame().get_data())\n",
    "        display = cv2.resize(color, (int(color.shape[1]/2), int(color.shape[0]/2)))\n",
    "        cv2.imshow(\"capture\", display)\n",
    "        k = cv2.waitKey(1) & 0xFF\n",
    "        if k == ord('s'):\n",
    "            fname = os.path.join(SAVE_DIR, f\"calib_{count:03d}.png\")\n",
    "            cv2.imwrite(fname, color)\n",
    "            print(\"Saved\", fname)\n",
    "            count += 1\n",
    "        elif k == ord('q'):\n",
    "            break\n",
    "finally:\n",
    "    cv2.destroyAllWindows()\n",
    "    pipeline.stop()\n"
   ]
  },
  {
   "cell_type": "code",
   "execution_count": null,
   "id": "954f3807",
   "metadata": {},
   "outputs": [],
   "source": []
  }
 ],
 "metadata": {
  "kernelspec": {
   "display_name": "rs",
   "language": "python",
   "name": "python3"
  },
  "language_info": {
   "codemirror_mode": {
    "name": "ipython",
    "version": 3
   },
   "file_extension": ".py",
   "mimetype": "text/x-python",
   "name": "python",
   "nbconvert_exporter": "python",
   "pygments_lexer": "ipython3",
   "version": "3.8.20"
  }
 },
 "nbformat": 4,
 "nbformat_minor": 5
}
